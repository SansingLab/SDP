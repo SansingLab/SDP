{
 "cells": [
  {
   "cell_type": "markdown",
   "id": "28d5862e",
   "metadata": {},
   "source": [
    "# MAGMA"
   ]
  },
  {
   "cell_type": "markdown",
   "id": "5e02072f",
   "metadata": {
    "heading_collapsed": true
   },
   "source": [
    "## Download"
   ]
  },
  {
   "cell_type": "code",
   "execution_count": null,
   "id": "d768ed7d",
   "metadata": {
    "hidden": true
   },
   "outputs": [],
   "source": [
    "## reference panel"
   ]
  },
  {
   "cell_type": "code",
   "execution_count": 8,
   "id": "643eeaee",
   "metadata": {
    "hidden": true
   },
   "outputs": [
    {
     "name": "stdout",
     "output_type": "stream",
     "text": [
      "--2024-08-06 16:30:06--  https://vu.data.surfsara.nl/index.php/s/VZNByNwpD8qqINe/download\n",
      "Resolving vu.data.surfsara.nl (vu.data.surfsara.nl)... 145.100.60.10, 145.107.8.10, 145.107.56.10\n",
      "Connecting to vu.data.surfsara.nl (vu.data.surfsara.nl)|145.100.60.10|:443... connected.\n",
      "HTTP request sent, awaiting response... 200 OK\n",
      "Length: 511626945 (488M) [application/zip]\n",
      "Saving to: ‘download’\n",
      "\n",
      "download            100%[===================>] 487.92M  52.9MB/s    in 18s     \n",
      "\n",
      "2024-08-06 16:30:24 (27.7 MB/s) - ‘download’ saved [511626945/511626945]\n",
      "\n"
     ]
    }
   ],
   "source": [
    "wget https://vu.data.surfsara.nl/index.php/s/VZNByNwpD8qqINe/download"
   ]
  },
  {
   "cell_type": "code",
   "execution_count": 9,
   "id": "5e2c40f8",
   "metadata": {
    "hidden": true
   },
   "outputs": [
    {
     "name": "stdout",
     "output_type": "stream",
     "text": [
      "Archive:  download\n",
      "  inflating: README                  \n",
      "  inflating: g1000_eur.bed           \n",
      "  inflating: g1000_eur.bim           \n",
      "  inflating: g1000_eur.fam           \n",
      "  inflating: g1000_eur.synonyms      \n"
     ]
    }
   ],
   "source": [
    "unzip -o download"
   ]
  },
  {
   "cell_type": "code",
   "execution_count": 2,
   "id": "9dc21c4e",
   "metadata": {
    "hidden": true
   },
   "outputs": [],
   "source": [
    "### gene location"
   ]
  },
  {
   "cell_type": "code",
   "execution_count": 10,
   "id": "af30fc13",
   "metadata": {
    "hidden": true,
    "scrolled": true
   },
   "outputs": [
    {
     "name": "stdout",
     "output_type": "stream",
     "text": [
      "--2024-08-06 16:32:53--  https://vu.data.surfsara.nl/index.php/s/Pj2orwuF2JYyKxq/download\n",
      "Resolving vu.data.surfsara.nl (vu.data.surfsara.nl)... 145.107.56.10, 145.100.60.10, 145.107.8.10\n",
      "Connecting to vu.data.surfsara.nl (vu.data.surfsara.nl)|145.107.56.10|:443... connected.\n",
      "HTTP request sent, awaiting response... 200 OK\n",
      "Length: 355626 (347K) [application/zip]\n",
      "Saving to: ‘download’\n",
      "\n",
      "download            100%[===================>] 347.29K   916KB/s    in 0.4s    \n",
      "\n",
      "2024-08-06 16:32:55 (916 KB/s) - ‘download’ saved [355626/355626]\n",
      "\n"
     ]
    }
   ],
   "source": [
    "wget https://vu.data.surfsara.nl/index.php/s/Pj2orwuF2JYyKxq/download"
   ]
  },
  {
   "cell_type": "code",
   "execution_count": 11,
   "id": "3e3aca70",
   "metadata": {
    "hidden": true
   },
   "outputs": [
    {
     "name": "stdout",
     "output_type": "stream",
     "text": [
      "Archive:  download\n",
      "  inflating: REPORT                  \n",
      "  inflating: README                  \n",
      "  inflating: NCBI37.3.gene.loc       \n"
     ]
    }
   ],
   "source": [
    "unzip download"
   ]
  },
  {
   "cell_type": "code",
   "execution_count": 24,
   "id": "2374eecc",
   "metadata": {
    "hidden": true
   },
   "outputs": [],
   "source": [
    "#switch columns 1 and 6 in NCBI37.3.gene.loc\n",
    "awk 'BEGIN { OFS=\"\\t\" } {\n",
    "    temp = $1;\n",
    "    $1 = $6;\n",
    "    $6 = temp;\n",
    "    print;\n",
    "}' gene_locations/NCBI37.3.gene.loc > gene_locations/NCBI37.3.gene.switched.loc"
   ]
  },
  {
   "cell_type": "code",
   "execution_count": null,
   "id": "319308dd",
   "metadata": {
    "hidden": true
   },
   "outputs": [],
   "source": [
    "### analysis"
   ]
  },
  {
   "cell_type": "code",
   "execution_count": 6,
   "id": "6c22dde9",
   "metadata": {
    "hidden": true
   },
   "outputs": [
    {
     "name": "stdout",
     "output_type": "stream",
     "text": [
      "--2024-08-06 16:27:18--  https://vu.data.surfsara.nl/index.php/s/lxDgt2dNdNr6DYt\n",
      "Resolving vu.data.surfsara.nl (vu.data.surfsara.nl)... 145.100.60.10, 145.107.8.10, 145.107.56.10\n",
      "Connecting to vu.data.surfsara.nl (vu.data.surfsara.nl)|145.100.60.10|:443... connected.\n",
      "HTTP request sent, awaiting response... 200 OK\n",
      "Length: 14575 (14K) [text/html]\n",
      "Saving to: ‘lxDgt2dNdNr6DYt’\n",
      "\n",
      "lxDgt2dNdNr6DYt     100%[===================>]  14.23K  --.-KB/s    in 0.002s  \n",
      "\n",
      "2024-08-06 16:27:19 (6.44 MB/s) - ‘lxDgt2dNdNr6DYt’ saved [14575/14575]\n",
      "\n"
     ]
    }
   ],
   "source": [
    "##DL MAGMA https://cncr.nl/research/magma/\n",
    "wget https://vu.data.surfsara.nl/index.php/s/lxDgt2dNdNr6DYt/download"
   ]
  },
  {
   "cell_type": "code",
   "execution_count": 7,
   "id": "143901c0",
   "metadata": {
    "hidden": true,
    "scrolled": true
   },
   "outputs": [
    {
     "name": "stdout",
     "output_type": "stream",
     "text": [
      "Archive:  magma_v1.10_static.zip\n",
      "  inflating: magma                   \n",
      "  inflating: README                  \n",
      "  inflating: CHANGELOG               \n",
      "  inflating: manual_v1.10.pdf        \n"
     ]
    }
   ],
   "source": [
    "unzip -o magma_v1.10_static.zip"
   ]
  },
  {
   "cell_type": "markdown",
   "id": "0b6de58d",
   "metadata": {
    "heading_collapsed": true
   },
   "source": [
    "## Annotation"
   ]
  },
  {
   "cell_type": "code",
   "execution_count": 25,
   "id": "46ff268f",
   "metadata": {
    "hidden": true,
    "scrolled": true
   },
   "outputs": [
    {
     "name": "stdout",
     "output_type": "stream",
     "text": [
      "79501\t1\t69091\t70008\t+\tOR4F5\n",
      "100996442\t1\t142447\t174392\t-\tLOC100996442\n",
      "729759\t1\t367659\t368597\t+\tOR4F29\n",
      "81399\t1\t621096\t622034\t-\tOR4F16\n",
      "148398\t1\t859993\t879961\t+\tSAMD11\n",
      "26155\t1\t879583\t894679\t-\tNOC2L\n",
      "339451\t1\t895967\t901099\t+\tKLHL17\n",
      "84069\t1\t901872\t910488\t+\tPLEKHN1\n",
      "84808\t1\t910579\t917473\t-\tPERM1\n",
      "57801\t1\t934342\t936608\t-\tHES4\n"
     ]
    }
   ],
   "source": [
    "head gene_locations/NCBI37.3.gene.loc"
   ]
  },
  {
   "cell_type": "code",
   "execution_count": 26,
   "id": "e1066d31",
   "metadata": {
    "hidden": true
   },
   "outputs": [
    {
     "name": "stdout",
     "output_type": "stream",
     "text": [
      "OR4F5\t1\t69091\t70008\t+\t79501\n",
      "LOC100996442\t1\t142447\t174392\t-\t100996442\n",
      "OR4F29\t1\t367659\t368597\t+\t729759\n",
      "OR4F16\t1\t621096\t622034\t-\t81399\n",
      "SAMD11\t1\t859993\t879961\t+\t148398\n",
      "NOC2L\t1\t879583\t894679\t-\t26155\n",
      "KLHL17\t1\t895967\t901099\t+\t339451\n",
      "PLEKHN1\t1\t901872\t910488\t+\t84069\n",
      "PERM1\t1\t910579\t917473\t-\t84808\n",
      "HES4\t1\t934342\t936608\t-\t57801\n"
     ]
    }
   ],
   "source": [
    "head gene_locations/NCBI37.3.gene.switched.loc"
   ]
  },
  {
   "cell_type": "code",
   "execution_count": 27,
   "id": "2abd70e5",
   "metadata": {
    "hidden": true,
    "scrolled": true
   },
   "outputs": [
    {
     "name": "stdout",
     "output_type": "stream",
     "text": [
      "Welcome to MAGMA v1.10 (linux/s)\n",
      "Using flags:\n",
      "\t--annotate\n",
      "\t--snp-loc ref_panels/g1000_eur.bim\n",
      "\t--gene-loc gene_locations/NCBI37.3.gene.switched.loc\n",
      "\t--out outputs/g1000_eur\n",
      "\n",
      "Start time is 16:47:52, Tuesday 06 Aug 2024\n",
      "\n",
      "Starting annotation...\n",
      "Reading gene locations from file gene_locations/NCBI37.3.gene.switched.loc... \n",
      "\t19427 gene locations read from file\n",
      "\tchromosome  1: 2016 genes\n",
      "\tchromosome  2: 1226 genes\n",
      "\tchromosome  3: 1050 genes\n",
      "\tchromosome  4: 745 genes\n",
      "\tchromosome  5: 856 genes\n",
      "\tchromosome  6: 1016 genes\n",
      "\tchromosome  7: 906 genes\n",
      "\tchromosome  8: 669 genes\n",
      "\tchromosome  9: 775 genes\n",
      "\tchromosome 10: 723 genes\n",
      "\tchromosome 11: 1275 genes\n",
      "\tchromosome 12: 1009 genes\n",
      "\tchromosome 13: 320 genes\n",
      "\tchromosome 14: 595 genes\n",
      "\tchromosome 15: 586 genes\n",
      "\tchromosome 16: 817 genes\n",
      "\tchromosome 17: 1147 genes\n",
      "\tchromosome 18: 271 genes\n",
      "\tchromosome 19: 1389 genes\n",
      "\tchromosome 20: 527 genes\n",
      "\tchromosome 21: 215 genes\n",
      "\tchromosome 22: 442 genes\n",
      "\tchromosome  X: 805 genes\n",
      "\tchromosome  Y: 47 genes\n",
      "Reading SNP locations from file ref_panels/g1000_eur.bim... \n",
      "\t22665064 SNP locations read from file                                                           \n",
      "\tof those, 9220220 (40.68%) mapped to at least one gene\n",
      "Writing annotation to file outputs/g1000_eur.genes.annot\n",
      "\tfor chromosome  1, 16 genes are empty (out of 2016)\n",
      "\tfor chromosome  2, 2 genes are empty (out of 1226)\n",
      "\tfor chromosome  4, 14 genes are empty (out of 745)\n",
      "\tfor chromosome  5, 3 genes are empty (out of 856)\n",
      "\tfor chromosome  7, 3 genes are empty (out of 906)\n",
      "\tfor chromosome  8, 10 genes are empty (out of 669)\n",
      "\tfor chromosome  9, 4 genes are empty (out of 775)\n",
      "\tfor chromosome 10, 3 genes are empty (out of 723)\n",
      "\tfor chromosome 12, 2 genes are empty (out of 1009)\n",
      "\tfor chromosome 13, 4 genes are empty (out of 320)\n",
      "\tfor chromosome 15, 4 genes are empty (out of 586)\n",
      "\tfor chromosome 16, 4 genes are empty (out of 817)\n",
      "\tfor chromosome 17, 1 gene is empty (out of 1147)\n",
      "\tfor chromosome 18, 1 gene is empty (out of 271)\n",
      "\tfor chromosome 21, 1 gene is empty (out of 215)\n",
      "\tfor chromosome 22, 3 genes are empty (out of 442)\n",
      "\tfor chromosome  X, 57 genes are empty (out of 805)\n",
      "\tfor chromosome  Y, 47 genes are empty (out of 47)\n",
      "\tat least one SNP mapped to each of a total of 19248 genes (out of 19427)\n",
      "\n",
      "\n",
      "End time is 16:48:08, Tuesday 06 Aug 2024 (elapsed: 00:00:16)\n"
     ]
    }
   ],
   "source": [
    "./magma/magma --annotate --snp-loc ref_panels/g1000_eur.bim \\\n",
    "--gene-loc gene_locations/NCBI37.3.gene.switched.loc --out outputs/g1000_eur"
   ]
  },
  {
   "cell_type": "markdown",
   "id": "b4b844f0",
   "metadata": {
    "heading_collapsed": true
   },
   "source": [
    "## Python MAGMA"
   ]
  },
  {
   "cell_type": "code",
   "execution_count": 1,
   "id": "aa7acb92",
   "metadata": {
    "hidden": true
   },
   "outputs": [],
   "source": [
    "import os, subprocess"
   ]
  },
  {
   "cell_type": "code",
   "execution_count": 4,
   "id": "355fc352",
   "metadata": {
    "hidden": true
   },
   "outputs": [],
   "source": [
    "def run_annotation (name, gwas_path):\n",
    "    command1 = f\"./magma/magma --bfile ref_panels/g1000_eur --gene-annot outputs/g1000_eur.genes.annot \\\n",
    "    --pval {gwas_path} use=SNP, P --out outputs/{name}\"\n",
    "    subprocess.run(command1, shell=True, check=True)"
   ]
  },
  {
   "cell_type": "code",
   "execution_count": 5,
   "id": "2c9780d4",
   "metadata": {
    "hidden": true
   },
   "outputs": [],
   "source": [
    "def run_gene_analysis (name, suffix, expression_data):\n",
    "    command2 = f\"./magma/magma --gene-results outputs/{name}.genes.raw \\\n",
    "    --gene-covar {expression_data} max-miss=0.2 --out outputs/{name}_{suffix}\"\n",
    "    subprocess.run(command2, shell=True, check=True)"
   ]
  },
  {
   "cell_type": "code",
   "execution_count": null,
   "id": "72740846",
   "metadata": {
    "hidden": true
   },
   "outputs": [],
   "source": [
    "for name in [\"WMH\", \"GIGA_SVS\", \"FA\", \"PVS_WM_EUR\", \"red_hair_color\"]:\n",
    "    run_annotation (name, os.path.join(\"~/Resources/GWAS\", f\"{name}.txt\"))\n",
    "    run_gene_analysis(name, \"DE_Pseudobulk\", \"DEG_Pseudobulk_combined.txt\")"
   ]
  },
  {
   "cell_type": "markdown",
   "id": "41a7d9f4",
   "metadata": {},
   "source": [
    "# R Figure"
   ]
  },
  {
   "cell_type": "code",
   "execution_count": 1,
   "id": "a44cdb00",
   "metadata": {},
   "outputs": [],
   "source": [
    "library(ggplot2)\n",
    "\n",
    "# Function to create the bar plot\n",
    "create_enrichment_plot <- function(name, title, significance_threshold = 0.05) {\n",
    "  # Load the MAGMA results\n",
    "  results <- read.table(paste0(\"outputs/\",name,\".gsa.out\"), header = TRUE)\n",
    "    results <- subset(results, VARIABLE != \"Oligo-3\")\n",
    "  \n",
    "  # Remove \"RNA.\" prefix from cell names\n",
    "  results$VARIABLE <- gsub(\"^RNA\\\\.\", \"\", results$VARIABLE)\n",
    "    \n",
    "  # Convert VARIABLE to a factor with custom order\n",
    "  results$VARIABLE <- factor(results$VARIABLE, levels = rev(c(\"Astrocytes\", \"Microglia\", \"OPC\",\"OPCs\", \"Oligo\",\"AllOligo\",\n",
    "                                                      \"Oligo_1\", \"Oligo_2\", \"Oligo_3\")))\n",
    "\n",
    "  \n",
    "  # Create the bar plot\n",
    "  bar_plot <- ggplot(results, aes(x = -log10(P), y = VARIABLE)) +\n",
    "    geom_bar(stat = \"identity\", fill = \"#a8b8d0\") +\n",
    "    geom_vline(xintercept = -log10(significance_threshold), linetype = \"dashed\", color = \"red\") +\n",
    "    labs(x = \"-log10(p-value)\", y = \"Cell Type\") +\n",
    "    ggtitle(paste(title, \"enrichment\\n\")) +\n",
    "    theme_light() +\n",
    "    theme(axis.text.y = element_text(hjust = 0),\n",
    "          axis.title = element_text(size = 16),  # Increase axis title size\n",
    "          axis.text = element_text(size = 14),   # Increase axis label size\n",
    "          plot.title = element_text(size = 18))  # Increase plot title size\n",
    "         \n",
    "  \n",
    "  # Display the bar plot\n",
    "  ggsave(paste0(\"Figures/\", name, \"_enrichment_plot.png\"), plot = bar_plot, width = 8, height = 6)\n",
    "\n",
    "}\n",
    "\n",
    "\n"
   ]
  },
  {
   "cell_type": "code",
   "execution_count": 2,
   "id": "a012cb8c",
   "metadata": {},
   "outputs": [],
   "source": [
    "traits <- list(\n",
    "  c(\"WMH\", \"White Matter Hyperintensities\"),\n",
    "  c(\"PVS_WM_EUR\", \"Perivascular Spaces in White Matter\"),\n",
    "  c(\"GIGA_SVS\", \"Small Vessel Stroke\"),\n",
    "  c(\"FA\", \"Fractional Anisotropy\"),\n",
    "  c(\"red_hair_color\", \"Hair Color\")\n",
    ")"
   ]
  },
  {
   "cell_type": "code",
   "execution_count": 4,
   "id": "4898f1a6",
   "metadata": {},
   "outputs": [],
   "source": [
    "for (trait_tuple in traits) {\n",
    "        trait = trait_tuple[1]\n",
    "        title = trait_tuple[2]\n",
    "        suffix = \"DE_Pseudobulk\"\n",
    "        create_enrichment_plot(paste0(trait,\"_\",suffix), title)\n",
    "    \n",
    "} "
   ]
  }
 ],
 "metadata": {
  "kernelspec": {
   "display_name": "Python 2MRaugust",
   "language": "python",
   "name": "2mraugust"
  },
  "language_info": {
   "codemirror_mode": {
    "name": "ipython",
    "version": 3
   },
   "file_extension": ".py",
   "mimetype": "text/x-python",
   "name": "python",
   "nbconvert_exporter": "python",
   "pygments_lexer": "ipython3",
   "version": "3.10.4"
  }
 },
 "nbformat": 4,
 "nbformat_minor": 5
}
